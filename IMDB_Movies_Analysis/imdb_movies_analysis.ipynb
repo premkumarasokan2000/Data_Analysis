{
 "cells": [
  {
   "cell_type": "code",
   "execution_count": 0,
   "metadata": {
    "application/vnd.databricks.v1+cell": {
     "cellMetadata": {
      "byteLimit": 2048000,
      "rowLimit": 10000
     },
     "inputWidgets": {},
     "nuid": "df5c62e6-e69a-40ad-ae57-a0d91a39b34b",
     "showTitle": false,
     "tableResultSettingsMap": {},
     "title": ""
    }
   },
   "outputs": [],
   "source": [
    "#Fetch all data from imdb table\n",
    "\n",
    "df = spark.read.table('imdb_movies.default.imdb_top_1000_dataset')\n",
    "display(df)"
   ]
  },
  {
   "cell_type": "code",
   "execution_count": 0,
   "metadata": {
    "application/vnd.databricks.v1+cell": {
     "cellMetadata": {
      "byteLimit": 2048000,
      "rowLimit": 10000
     },
     "inputWidgets": {},
     "nuid": "63e69802-d9e0-461d-9859-d24a11a56afd",
     "showTitle": false,
     "tableResultSettingsMap": {},
     "title": ""
    }
   },
   "outputs": [],
   "source": [
    "#Fetch only the name and release year for all movies.\n",
    "df2=df.select('Series_Title','Released_Year')\n",
    "display(df2)"
   ]
  },
  {
   "cell_type": "code",
   "execution_count": 0,
   "metadata": {
    "application/vnd.databricks.v1+cell": {
     "cellMetadata": {
      "byteLimit": 2048000,
      "rowLimit": 10000
     },
     "inputWidgets": {},
     "nuid": "f07e3272-2169-4399-a9aa-87b660d77328",
     "showTitle": false,
     "tableResultSettingsMap": {},
     "title": ""
    }
   },
   "outputs": [],
   "source": [
    "#Fetch the name, release year and imdb rating of movies which are UA certified.\n",
    "df3 = df.filter(df['Certificate'] == 'UA').select('Series_Title','Released_Year','IMDB_Rating','Certificate')\n",
    "display(df3)"
   ]
  },
  {
   "cell_type": "code",
   "execution_count": 0,
   "metadata": {
    "application/vnd.databricks.v1+cell": {
     "cellMetadata": {
      "byteLimit": 2048000,
      "rowLimit": 10000
     },
     "inputWidgets": {},
     "nuid": "89c5b992-edd1-4077-b885-59079a6451b2",
     "showTitle": false,
     "tableResultSettingsMap": {},
     "title": ""
    }
   },
   "outputs": [],
   "source": [
    "#Fetch the name and genre of movies which are UA certified and have a Imdb rating of over 8.\n",
    "df4 = df.filter((df['Certificate'] == 'UA') | (df['IMDB_Rating'] > 8)).select('Series_Title','Genre','Certificate','IMDB_Rating')\n",
    "display(df4)"
   ]
  },
  {
   "cell_type": "code",
   "execution_count": 0,
   "metadata": {
    "application/vnd.databricks.v1+cell": {
     "cellMetadata": {
      "byteLimit": 2048000,
      "rowLimit": 10000
     },
     "inputWidgets": {},
     "nuid": "1ad6393f-09d1-469c-8cc5-b71ca2536b05",
     "showTitle": false,
     "tableResultSettingsMap": {},
     "title": ""
    }
   },
   "outputs": [],
   "source": [
    "#Find out how many movies are of Drama genre.\n",
    "from pyspark.sql.functions import explode, split\n",
    "df5 = df.select('Series_Title', explode(split(df['Genre'], ',')))\n",
    "df6 = df5.filter(df5['col'] == 'Drama').count()\n",
    "\n",
    "display(df5)\n",
    "\n",
    "display(df6)"
   ]
  },
  {
   "cell_type": "code",
   "execution_count": 0,
   "metadata": {
    "application/vnd.databricks.v1+cell": {
     "cellMetadata": {
      "byteLimit": 2048000,
      "rowLimit": 10000
     },
     "inputWidgets": {},
     "nuid": "c0f87f15-75e7-4284-90af-a140f82f0500",
     "showTitle": false,
     "tableResultSettingsMap": {},
     "title": ""
    }
   },
   "outputs": [],
   "source": [
    "#How many movies are directed by \"Quentin Tarantino\", \"Steven Spielberg\",\"Christopher Nolan\" and \"Rajkumar Hirani\".\n",
    "\n",
    "df7 = df.groupBy('Director').count().filter((df['Director'] == 'Quentin Tarantino') | (df['Director'] == 'Steven Spielberg') | (df['Director'] == 'Christopher Nolan') | (df['Director'] == 'Rajkumar Hirani'))\n",
    "display(df7)\n",
    "\n",
    "\n"
   ]
  },
  {
   "cell_type": "code",
   "execution_count": 0,
   "metadata": {
    "application/vnd.databricks.v1+cell": {
     "cellMetadata": {
      "byteLimit": 2048000,
      "rowLimit": 10000
     },
     "inputWidgets": {},
     "nuid": "14c513f5-0897-42f4-85fd-46017db41fbd",
     "showTitle": false,
     "tableResultSettingsMap": {},
     "title": ""
    }
   },
   "outputs": [],
   "source": [
    "#What is the highest imdb rating given so far?\n",
    "df8 = df.select('IMDB_Rating').orderBy(df['IMDB_Rating'].desc()).limit(1)\n",
    "display(df8)"
   ]
  },
  {
   "cell_type": "code",
   "execution_count": 0,
   "metadata": {
    "application/vnd.databricks.v1+cell": {
     "cellMetadata": {
      "byteLimit": 2048000,
      "rowLimit": 10000
     },
     "inputWidgets": {},
     "nuid": "69252638-0f22-4dc7-a6a5-8bb690039968",
     "showTitle": false,
     "tableResultSettingsMap": {},
     "title": ""
    }
   },
   "outputs": [],
   "source": [
    "#What is the highest and lowest imdb rating given so far?\n",
    "\n",
    "df9 = df.select('IMDB_Rating').orderBy(df['IMDB_Rating'].desc()).limit(1)\n",
    "df10 = df.select('IMDB_Rating').orderBy(df['IMDB_Rating'].asc()).limit(1)\n",
    "display(df9)\n",
    "display(df10)"
   ]
  },
  {
   "cell_type": "code",
   "execution_count": 0,
   "metadata": {
    "application/vnd.databricks.v1+cell": {
     "cellMetadata": {
      "byteLimit": 2048000,
      "rowLimit": 10000
     },
     "inputWidgets": {},
     "nuid": "fdbbda48-7147-4e32-91af-b5f9893321f2",
     "showTitle": false,
     "tableResultSettingsMap": {},
     "title": ""
    }
   },
   "outputs": [],
   "source": [
    "#Solve the above problem but display the results in different rows. And have a column which indicates the value as lowest and highest.\n",
    "from pyspark.sql.functions import lit\n",
    "df11 = df.select('IMDB_Rating').orderBy(df['IMDB_Rating'].desc()).limit(1)\n",
    "df12 = df.select('IMDB_Rating').orderBy(df['IMDB_Rating'].asc()).limit(1)\n",
    "df13 = df11.withColumn('Rating',lit('Highest'))\n",
    "df14 = df12.withColumn('Rating', lit('Lowest'))\n",
    "df15 = df13.union(df14)\n",
    "display(df15)\n"
   ]
  },
  {
   "cell_type": "code",
   "execution_count": 0,
   "metadata": {
    "application/vnd.databricks.v1+cell": {
     "cellMetadata": {
      "byteLimit": 2048000,
      "rowLimit": 10000
     },
     "inputWidgets": {},
     "nuid": "4db842d7-c4ab-41ff-8437-39dff3c040c1",
     "showTitle": false,
     "tableResultSettingsMap": {},
     "title": ""
    }
   },
   "outputs": [],
   "source": [
    "#Find out the total business done by movies staring \"Aamir Khan\".\n",
    "from pyspark.sql.functions import sum, regexp_replace, col\n",
    "\n",
    "df16 = df.filter(df['Star1'] == 'Aamir Khan') \\\n",
    "         .withColumn('Gross', regexp_replace(col('Gross'), ',', '').cast('double')) \\\n",
    "         .select('Gross') \\\n",
    "         .agg(sum('Gross').alias('Total_Gross'))\n",
    "\n",
    "display(df16)"
   ]
  },
  {
   "cell_type": "code",
   "execution_count": 0,
   "metadata": {
    "application/vnd.databricks.v1+cell": {
     "cellMetadata": {
      "byteLimit": 2048000,
      "rowLimit": 10000
     },
     "inputWidgets": {},
     "nuid": "45f03c28-5fb5-4081-bfc9-3810b90624c5",
     "showTitle": false,
     "tableResultSettingsMap": {},
     "title": ""
    }
   },
   "outputs": [],
   "source": [
    "#Find out the average imdb rating of movies which are neither directed by \"Quentin Tarantino\", \"Steven Spielberg\", \"Christopher Nolan\" and are not acted by any of these stars \"Christian Bale\", \"Liam Neeson\", \"Heath Ledger\", \"Leonardo DiCaprio\", \"Anne Hathaway\".\n",
    "\n",
    "from pyspark.sql.functions import avg\n",
    "\n",
    "df17 = df.filter(~((df['Director'] == 'Quentin Tarantino') | (df['Director'] == 'Steven Spielberg') | (df['Director'] == 'Christopher Nolan'))) \\\n",
    "         .filter(~((df['Star1'] == 'Christian Bale') | (df['Star1'] == 'Liam Neeson') | (df['Star1'] == 'Heath Ledger') | (df['Star1'] == 'Leonardo DiCaprio') | (df['Star1'] == 'Anne Hathaway'))) \\\n",
    "         .filter(~((df['Star2'] == 'Christian Bale') | (df['Star2'] == 'Liam Neeson') | (df['Star2'] == 'Heath Ledger') | (df['Star2'] == 'Leonardo DiCaprio') | (df['Star2'] == 'Anne Hathaway'))) \\\n",
    "         .filter(~((df['Star3'] == 'Christian Bale') | (df['Star3'] == 'Liam Neeson') | (df['Star3'] == 'Heath Ledger') | (df['Star3'] == 'Leonardo DiCaprio') | (df['Star3'] == 'Anne Hathaway'))) \\\n",
    "         .filter(~((df['Star4'] == 'Christian Bale') | (df['Star4'] == 'Liam Neeson') | (df['Star4'] == 'Heath Ledger') | (df['Star4'] == 'Leonardo DiCaprio') | (df['Star4'] == 'Anne Hathaway'))) \\\n",
    "         .select('IMDB_Rating') \\\n",
    "         .agg(avg('IMDB_Rating').alias('Average_IMDB_Rating'))\n",
    "\n",
    "display(df17)"
   ]
  },
  {
   "cell_type": "code",
   "execution_count": 0,
   "metadata": {
    "application/vnd.databricks.v1+cell": {
     "cellMetadata": {
      "byteLimit": 2048000,
      "rowLimit": 10000
     },
     "inputWidgets": {},
     "nuid": "345b752d-cbad-460e-b602-3a7c7cec5c96",
     "showTitle": false,
     "tableResultSettingsMap": {},
     "title": ""
    }
   },
   "outputs": [],
   "source": [
    "#Mention the movies involving both \"Steven Spielberg\" and \"Tom Cruise\".\n",
    "\n",
    "from pyspark.sql.functions import array_contains\n",
    "\n",
    "df18 = df.filter((df['Director'] == 'Steven Spielberg')) \\\n",
    "         .filter((df['Star1'] == 'Tom Cruise') |(df['Star2'] == 'Tom Cruise') | (df['Star3'] == 'Tom Cruise') | (df['Star4'] == 'Tom Cruise')) \\\n",
    "         .select('Series_Title')\n",
    "\n",
    "display(df18)"
   ]
  },
  {
   "cell_type": "code",
   "execution_count": 0,
   "metadata": {
    "application/vnd.databricks.v1+cell": {
     "cellMetadata": {
      "byteLimit": 2048000,
      "rowLimit": 10000
     },
     "inputWidgets": {},
     "nuid": "5e5acf4a-722b-44e5-a8c9-1129f08de213",
     "showTitle": false,
     "tableResultSettingsMap": {},
     "title": ""
    }
   },
   "outputs": [],
   "source": [
    "#Display the movie name and watch time (in both mins and hours) which have over 9 imdb rating.\n",
    "from pyspark.sql.functions import col, round, regexp_replace\n",
    "\n",
    "df19 = df.filter(df['IMDB_Rating'] > 9) \\\n",
    "         .withColumn('runtime', regexp_replace(col('runtime'), ' min', '').cast('int')) \\\n",
    "         .withColumn('Watch_Time_Min', col('runtime') * 10) \\\n",
    "         .withColumn('Watch_Time_Hours', round(col('runtime') * 10 / 60, 2)) \\\n",
    "         .select('Series_Title', 'Watch_Time_Min', 'Watch_Time_Hours')\n",
    "display(df19)\n"
   ]
  },
  {
   "cell_type": "code",
   "execution_count": 0,
   "metadata": {
    "application/vnd.databricks.v1+cell": {
     "cellMetadata": {
      "byteLimit": 2048000,
      "rowLimit": 10000
     },
     "inputWidgets": {},
     "nuid": "470b46b7-1277-453f-97ec-5db3f3075940",
     "showTitle": false,
     "tableResultSettingsMap": {},
     "title": ""
    }
   },
   "outputs": [],
   "source": [
    "#What is the average imdb rating of movies which are released in the last 10 years and have less than 2 hrs of runtime.\n",
    "from pyspark.sql.functions import avg, current_date, year, col, round, regexp_replace ,try_cast\n",
    "\n",
    "current_year = year(current_date())\n",
    "\n",
    "df20 = df.withColumn('current_year', current_year) \\\n",
    "         .filter((col('Released_Year') >= (current_year - 10))) \\\n",
    "         .withColumn('runtime', try_cast(regexp_replace(col('runtime'), ' min', ''), 'double')) \\\n",
    "         .withColumn('Watch_Time_Hours', round(col('runtime') / 60, 2)) \\\n",
    "         .filter(col('Watch_Time_Hours') < 2) \\\n",
    "         .select('IMDB_Rating') \\\n",
    "         .agg(avg('IMDB_Rating').alias('Average_IMDB_Rating'))\n",
    "\n",
    "display(df20)"
   ]
  },
  {
   "cell_type": "code",
   "execution_count": 0,
   "metadata": {
    "application/vnd.databricks.v1+cell": {
     "cellMetadata": {
      "byteLimit": 2048000,
      "rowLimit": 10000
     },
     "inputWidgets": {},
     "nuid": "4a8f5e2f-a05b-4dd3-9aeb-37da1943355a",
     "showTitle": false,
     "tableResultSettingsMap": {},
     "title": ""
    }
   },
   "outputs": [],
   "source": [
    "#Identify the Batman movie which is not directed by \"Christopher Nolan\".\n",
    "\n",
    "df21 = df. filter(df['Series_Title'].contains('Batman')) \\\n",
    "         .filter(~(df['Director'] == 'Christopher Nolan')) \\\n",
    "         .select('Series_Title')\n",
    "\n",
    "display(df21)"
   ]
  },
  {
   "cell_type": "code",
   "execution_count": 0,
   "metadata": {
    "application/vnd.databricks.v1+cell": {
     "cellMetadata": {
      "byteLimit": 2048000,
      "rowLimit": 10000
     },
     "inputWidgets": {},
     "nuid": "24d059c8-fcc6-4237-86ec-155219d16cc0",
     "showTitle": false,
     "tableResultSettingsMap": {},
     "title": ""
    }
   },
   "outputs": [],
   "source": [
    "#Display all the A and UA certified movies which are either directed by \"Steven Spielberg\", \"Christopher Nolan\" or which are directed by other directors but have a rating of over 8.\n",
    "from pyspark.sql.functions import col\n",
    "\n",
    "df22 = df.filter((df['Certificate'] == 'A') | (df['Certificate'] == 'UA')) \\\n",
    "         .filter((df['Director'] == 'Steven Spielberg') | (df['Director'] == 'Christopher Nolan') | (df['IMDB_Rating'] > 8)) \\\n",
    "         .select('Series_Title', 'Director', 'IMDB_Rating', 'Certificate').show()"
   ]
  },
  {
   "cell_type": "code",
   "execution_count": 0,
   "metadata": {
    "application/vnd.databricks.v1+cell": {
     "cellMetadata": {
      "byteLimit": 2048000,
      "rowLimit": 10000
     },
     "inputWidgets": {},
     "nuid": "09bfb226-7a6e-4846-b9f8-551bb6566e8d",
     "showTitle": false,
     "tableResultSettingsMap": {},
     "title": ""
    }
   },
   "outputs": [],
   "source": [
    "#What are the different certificates given to movies?\n",
    "df23 = df.select('Certificate').distinct()\n",
    "\n",
    "display(df23)"
   ]
  },
  {
   "cell_type": "code",
   "execution_count": 0,
   "metadata": {
    "application/vnd.databricks.v1+cell": {
     "cellMetadata": {
      "byteLimit": 2048000,
      "rowLimit": 10000
     },
     "inputWidgets": {},
     "nuid": "3ebbc361-0dd6-4cae-bb7a-6946bf4eef27",
     "showTitle": false,
     "tableResultSettingsMap": {},
     "title": ""
    }
   },
   "outputs": [],
   "source": [
    "#Display all the movies acted by Tom Cruise in the order of their release.Consider only movies which have a meta score.\n",
    "from pyspark.sql.functions import col\n",
    "\n",
    "df24 = df.filter((df['Star1'] == 'Tom Cruise') | (df['Star2'] == 'Tom Cruise') | (df['Star3'] == 'Tom Cruise') | (df['Star4'] == 'Tom Cruise')) \\\n",
    "         .filter(df['Meta_score'].isNotNull()) \\\n",
    "         .orderBy(col('Released_Year').asc()) \\\n",
    "         .select('Series_Title', 'Released_Year','Meta_score')\n",
    "\n",
    "display(df24)"
   ]
  },
  {
   "cell_type": "code",
   "execution_count": 0,
   "metadata": {
    "application/vnd.databricks.v1+cell": {
     "cellMetadata": {
      "byteLimit": 2048000,
      "rowLimit": 10000
     },
     "inputWidgets": {},
     "nuid": "0687781f-cb27-4748-b929-001586aff7fd",
     "showTitle": false,
     "tableResultSettingsMap": {},
     "title": ""
    }
   },
   "outputs": [],
   "source": [
    "#Segregate all the Drama and Comedy movies released in the last 10 years as per their runtime. Movies shorter than 1 hour should be termed as short film. Movies longer than 2 hrs should be termed as longer movies. All others can be termed as Good watch time.\n",
    "\n",
    "from pyspark.sql.functions import col, when, regexp_replace\n",
    "current_year = 2025\n",
    "df27 = df.withColumn('runtime', (regexp_replace(col('runtime'), ' min', '')))\n",
    "df28 = df27.filter((df['Genre'].contains('Drama') | df27['Genre'].contains('Comedy')) & (df27['Released_Year'] >= (current_year - 10)))\n",
    "df29 = df28.withColumn('Runtime_Category', \n",
    "                                     when(col('Runtime') < 60, 'Short film')\n",
    "                                     .when(col('Runtime') > 120, 'Longer movies')\n",
    "                                     .otherwise('Good watch time')).select('Series_Title', 'Runtime', 'Runtime_Category')\n",
    "\n",
    "display(df29)"
   ]
  },
  {
   "cell_type": "code",
   "execution_count": 0,
   "metadata": {
    "application/vnd.databricks.v1+cell": {
     "cellMetadata": {
      "byteLimit": 2048000,
      "rowLimit": 10000
     },
     "inputWidgets": {},
     "nuid": "ea527d5c-a414-479f-928e-067dbfef5682",
     "showTitle": false,
     "tableResultSettingsMap": {},
     "title": ""
    }
   },
   "outputs": [],
   "source": [
    "#Write a query to display the \"Christian Bale\" movies which released in odd year and even year. Sort the data as per Odd year at the top.\n",
    "from pyspark.sql.functions import col, lit, when\n",
    "\n",
    "df30 = df.filter(df['Star1'] == 'Christian Bale') \\\n",
    "         .withColumn('Released_Year', col('Released_Year').cast('int')) \\\n",
    "         .withColumn('Year_Type', when(col('Released_Year') % 2 == 0, lit('Even')).otherwise(lit('Odd'))) \\\n",
    "         .orderBy(col('Year_Type').asc()) \\\n",
    "         .select('Series_Title', 'Released_Year', 'Year_Type')\n",
    "\n",
    "display(df30)"
   ]
  },
  {
   "cell_type": "code",
   "execution_count": 0,
   "metadata": {
    "application/vnd.databricks.v1+cell": {
     "cellMetadata": {
      "byteLimit": 2048000,
      "rowLimit": 10000
     },
     "inputWidgets": {},
     "nuid": "b709170e-3e5b-41ae-b6af-36ef2df6a53d",
     "showTitle": false,
     "tableResultSettingsMap": {},
     "title": ""
    }
   },
   "outputs": [],
   "source": [
    "df.select('Released_Year').show()"
   ]
  }
 ],
 "metadata": {
  "application/vnd.databricks.v1+notebook": {
   "computePreferences": null,
   "dashboards": [],
   "environmentMetadata": {
    "base_environment": "",
    "environment_version": "2"
   },
   "inputWidgetPreferences": null,
   "language": "python",
   "notebookMetadata": {
    "mostRecentlyExecutedCommandWithImplicitDF": {
     "commandId": 7557059000023410,
     "dataframes": [
      "_sqldf"
     ]
    },
    "pythonIndentUnit": 4
   },
   "notebookName": "imdb_movies_analysis",
   "widgets": {}
  },
  "language_info": {
   "name": "python"
  }
 },
 "nbformat": 4,
 "nbformat_minor": 0
}
